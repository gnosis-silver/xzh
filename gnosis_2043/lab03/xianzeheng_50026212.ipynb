{
 "cells": [
  {
   "cell_type": "markdown",
   "metadata": {},
   "source": [
    "# Lab Exercises 3: Asymptotic Analysis\n",
    "\n",
    "# 1. Introduction\n",
    "\n",
    "This guide will implement a linked list with python and perform Asymptotic Analysis. The objectives are:\n",
    "\n",
    "1. Understand the concept of linked lists.\n",
    "2. Implement a singly linked list (SLL) in Python.\n",
    "3. Perform the following operations:\n",
    "   - Insert elements (at the end and at a specific position).\n",
    "   - Delete an element at a given index.\n",
    "   - Update an element at a given index.\n",
    "   - Search for an element.\n",
    "4. Asymptotic analysis on your code."
   ]
  },
  {
   "cell_type": "markdown",
   "metadata": {},
   "source": [
    "# 2. Implementation of a linked list\n",
    "\n",
    "A singly linked list consists of nodes, where:\n",
    "\n",
    "- Each node contains data and a reference (pointer) to the next node.\n",
    "- The first node is called the head.\n",
    "- The last node’s pointer is None, indicating the end of the list."
   ]
  },
  {
   "cell_type": "markdown",
   "metadata": {},
   "source": [
    "The Node class represents a single node in the linked list."
   ]
  },
  {
   "cell_type": "code",
   "execution_count": 1,
   "metadata": {
    "slideshow": {
     "slide_type": "slide"
    }
   },
   "outputs": [],
   "source": [
    "class Node:\n",
    "    def __init__(self, data):\n",
    "        \"\"\"Initialize a node with data and set next to None.\"\"\"\n",
    "        self.data = data  \n",
    "        self.next = None  "
   ]
  },
  {
   "cell_type": "markdown",
   "metadata": {},
   "source": [
    "The LinkedList class will handle all operations, such as insertion, deletion, updating, and searching."
   ]
  },
  {
   "cell_type": "code",
   "execution_count": 2,
   "metadata": {},
   "outputs": [],
   "source": [
    "class LinkedList:\n",
    "    def __init__(self):\n",
    "        \"\"\"Initialize an empty linked list.\"\"\"\n",
    "        self.head = None  \n",
    "\n",
    "    def append(self, data):\n",
    "        \"\"\"Insert a new node at the end of the linked list.\"\"\"\n",
    "        new_node = Node(data)\n",
    "        if not self.head:  # If list is empty, new node becomes the head\n",
    "            self.head = new_node\n",
    "            return\n",
    "        current = self.head\n",
    "        while current.next:  # Traverse to the last node\n",
    "            current = current.next\n",
    "        current.next = new_node  # Link new node at the end\n",
    "\n",
    "    # (1). Insert at a Specific Index\n",
    "    def insert(self, index, data):\n",
    "        \"\"\"Insert a node at a given index.\"\"\"\n",
    "        new_node = Node(data)\n",
    "        if index == 0:  # Inserting at the head\n",
    "            new_node.next = self.head\n",
    "            self.head = new_node\n",
    "            return\n",
    "        current = self.head\n",
    "        for _ in range(index - 1):\n",
    "            if not current:\n",
    "                print(\"Index out of range\")\n",
    "                return\n",
    "            current = current.next\n",
    "        if not current:\n",
    "            print(\"Index out of range\")\n",
    "            return\n",
    "        new_node.next = current.next\n",
    "        current.next = new_node\n",
    "    \n",
    "    # (2). delete a node\n",
    "    def delete(self, index):\n",
    "        \"\"\"Delete a node at the given index.\"\"\"\n",
    "        if not self.head:  # If the list is empty\n",
    "            print(\"List is empty\")\n",
    "            return\n",
    "        if index == 0:  # Deleting the head node\n",
    "            self.head = self.head.next\n",
    "            return\n",
    "        current = self.head\n",
    "        for _ in range(index - 1):\n",
    "            if not current or not current.next:\n",
    "                print(\"Index out of range\")\n",
    "                return\n",
    "            current = current.next\n",
    "        current.next = current.next.next  # Unlink the node\n",
    "\n",
    "    # (3). update a node\n",
    "    def update(self, index, data):\n",
    "        \"\"\"Update the data of a node at a given index.\"\"\"\n",
    "        current = self.head\n",
    "        for _ in range(index):\n",
    "            if not current:\n",
    "                print(\"Index out of range\")\n",
    "                return\n",
    "            current = current.next\n",
    "        if current:\n",
    "            current.data = data\n",
    "\n",
    "    # (4). search for an element\n",
    "    def search(self, data):\n",
    "        \"\"\"Find the index of the given data in the list.\"\"\"\n",
    "        current = self.head\n",
    "        index = 0\n",
    "        while current:\n",
    "            if current.data == data:\n",
    "                return index\n",
    "            current = current.next\n",
    "            index += 1\n",
    "        return -1  # Data not found\n",
    "\n",
    "    # (5). display the linked list\n",
    "    def display(self):\n",
    "        \"\"\"Print all elements of the linked list.\"\"\"\n",
    "        current = self.head\n",
    "        while current:\n",
    "            print(current.data, end=\" -> \")\n",
    "            current = current.next\n",
    "        print(\"None\")   "
   ]
  },
  {
   "cell_type": "markdown",
   "metadata": {},
   "source": [
    "## 2.1 Time Complexity\n",
    "\n",
    "\n",
    "| **Operation**  | **Singly Linked List** |\n",
    "|-|-|\n",
    "| **Insert at Head** | O(1) |\n",
    "| **Insert at Tail** | O(n) |\n",
    "| **Delete from Head** | O(1) |\n",
    "| **Delete from Tail** | O(n) |\n",
    "| **Search an Element** | O(n) |\n",
    "| **Access by Index** | O(n) |"
   ]
  },
  {
   "cell_type": "markdown",
   "metadata": {},
   "source": [
    "## 2.2 Testing the implementation of a linked list"
   ]
  },
  {
   "cell_type": "code",
   "execution_count": 3,
   "metadata": {},
   "outputs": [
    {
     "name": "stdout",
     "output_type": "stream",
     "text": [
      "Initial linked list:\n",
      "0 -> 1 -> 2 -> 3 -> 4 -> 5 -> 6 -> 7 -> 8 -> 9 -> None\n",
      "After inserting 100 at index 5:\n",
      "0 -> 1 -> 2 -> 3 -> 4 -> 100 -> 5 -> 6 -> 7 -> 8 -> 9 -> None\n",
      "After deleting index 3:\n",
      "0 -> 1 -> 2 -> 4 -> 100 -> 5 -> 6 -> 7 -> 8 -> 9 -> None\n",
      "After updating index 4 to 999:\n",
      "0 -> 1 -> 2 -> 4 -> 999 -> 5 -> 6 -> 7 -> 8 -> 9 -> None\n",
      "Element 100 is found at index: -1\n"
     ]
    }
   ],
   "source": [
    "# Create a linked list\n",
    "ll = LinkedList()\n",
    "\n",
    "# Append 10 elements\n",
    "for i in range(10):\n",
    "    ll.append(i)\n",
    "print(\"Initial linked list:\")\n",
    "ll.display()\n",
    "\n",
    "# Insert a value at index 5\n",
    "ll.insert(5, 100)\n",
    "print(\"After inserting 100 at index 5:\")\n",
    "ll.display()\n",
    "\n",
    "# Delete the element at index 3\n",
    "ll.delete(3)\n",
    "print(\"After deleting index 3:\")\n",
    "ll.display()\n",
    "\n",
    "# Update index 4 with value 999\n",
    "ll.update(4, 999)\n",
    "print(\"After updating index 4 to 999:\")\n",
    "ll.display()\n",
    "\n",
    "# Search for element 100\n",
    "index = ll.search(100)\n",
    "print(f\"Element 100 is found at index: {index}\")\n"
   ]
  },
  {
   "cell_type": "markdown",
   "metadata": {},
   "source": [
    "# 3. Implementation of a queue\n",
    "\n",
    "A Queue is a FIFO (First In, First Out) data structure, meaning:\n",
    "\n",
    "- Elements are added to the rear (enqueue).\n",
    "- Elements are removed from the front (dequeue)."
   ]
  },
  {
   "cell_type": "markdown",
   "metadata": {},
   "source": [
    "A queue requires two pointers:\n",
    "\n",
    "- front: Points to the first element.\n",
    "- rear: Points to the last element."
   ]
  },
  {
   "cell_type": "code",
   "execution_count": 10,
   "metadata": {},
   "outputs": [],
   "source": [
    "class Queue:\n",
    "    def __init__(self):\n",
    "        \"\"\"Initialize an empty queue.\"\"\"\n",
    "        self.front = None  # Front of the queue\n",
    "        self.rear = None   # Rear of the queue\n",
    "        self.size = 0      # Track the number of elements\n",
    "\n",
    "    def is_empty(self):\n",
    "        \"\"\"Check if the queue is empty.\"\"\"\n",
    "        return self.size == 0\n",
    "    \n",
    "    def enqueue(self, data):\n",
    "        \"\"\"Add an element to the rear of the queue.\"\"\"\n",
    "        new_node = Node(data)\n",
    "        if self.is_empty():  # If queue is empty\n",
    "            self.front = self.rear = new_node\n",
    "        else:\n",
    "            self.rear.next = new_node\n",
    "            self.rear = new_node\n",
    "        self.size += 1\n",
    "\n",
    "    def dequeue(self):\n",
    "        \"\"\"Remove and return the front element.\"\"\"\n",
    "        ###### Your Task1: implement here ######\n",
    "        if self.is_empty():\n",
    "            print(\"Queue is empty\")\n",
    "            return None\n",
    "        temp = self.front\n",
    "        self.front = self.front.next\n",
    "        if not self.front:\n",
    "            self.rear = None\n",
    "        self.size -= 1\n",
    "        return temp.data\n",
    "\n",
    "        \n",
    "\n",
    "    def peek(self):\n",
    "        \"\"\"Return the front element without removing it.\"\"\"\n",
    "        if self.is_empty():\n",
    "            print(\"Queue is empty, no front element.\")\n",
    "            return None\n",
    "        return self.front.data        \n",
    "\n",
    "    def search(self, value):\n",
    "        \"\"\"Find if a value exists in the queue.\"\"\"\n",
    "        ###### Your Task2: implement here ######\n",
    "        current = self.front\n",
    "        while current:\n",
    "            if current.data == value:\n",
    "                return True\n",
    "            current = current.next\n",
    "        return False\n",
    "        \n",
    "\n",
    "    def display(self):\n",
    "        \"\"\"Print all elements of the queue.\"\"\"\n",
    "        if self.is_empty():\n",
    "            print(\"Queue is empty.\")\n",
    "            return\n",
    "        current = self.front\n",
    "        while current:\n",
    "            print(current.data, end=\" -> \")\n",
    "            current = current.next\n",
    "        print(\"None\")\n"
   ]
  },
  {
   "cell_type": "markdown",
   "metadata": {},
   "source": [
    "## 3.1 Time Complexity\n",
    "\n",
    "<font color=\"red\">Your Task: fill the table, implement function dequeue() and search() (4 points)</font>\n",
    "\n",
    "| **Operation**  | **Queue (Linked List-Based)** |\n",
    "|-|-|\n",
    "| **Insert at Tail** | O(1) |\n",
    "| **Delete from Head** | O(1) |\n",
    "| **Search an Element** | O(n) |\n",
    "| **Access by Index**  | O(n) | "
   ]
  },
  {
   "cell_type": "code",
   "execution_count": 11,
   "metadata": {},
   "outputs": [
    {
     "name": "stdout",
     "output_type": "stream",
     "text": [
      "Initial queue:\n",
      "0 -> 1 -> 2 -> 3 -> 4 -> 5 -> 6 -> 7 -> 8 -> 9 -> None\n",
      "Dequeued element: 0\n",
      "Dequeued element: 1\n",
      "Queue after two dequeues:\n",
      "2 -> 3 -> 4 -> 5 -> 6 -> 7 -> 8 -> 9 -> None\n",
      "Front element: 2\n",
      "Element 5 found at index: True\n",
      "Queue after removing all elements:\n",
      "Queue is empty.\n"
     ]
    }
   ],
   "source": [
    "# Testing the implementation of a linked list\n",
    "# Create a queue\n",
    "q = Queue()\n",
    "\n",
    "# Enqueue 10 elements\n",
    "for i in range(10):\n",
    "    q.enqueue(i)\n",
    "print(\"Initial queue:\")\n",
    "q.display()\n",
    "\n",
    "# Dequeue two elements\n",
    "print(\"Dequeued element:\", q.dequeue())\n",
    "print(\"Dequeued element:\", q.dequeue())\n",
    "\n",
    "# Display queue after dequeuing\n",
    "print(\"Queue after two dequeues:\")\n",
    "q.display()\n",
    "\n",
    "# Peek at the front element\n",
    "print(\"Front element:\", q.peek())\n",
    "\n",
    "# Search for element 5\n",
    "index = q.search(5)\n",
    "print(f\"Element 5 found at index: {index}\")\n",
    "\n",
    "# Dequeue all elements\n",
    "while not q.is_empty():\n",
    "    q.dequeue()\n",
    "print(\"Queue after removing all elements:\")\n",
    "q.display()\n"
   ]
  },
  {
   "cell_type": "code",
   "execution_count": null,
   "metadata": {},
   "outputs": [],
   "source": []
  },
  {
   "cell_type": "markdown",
   "metadata": {},
   "source": [
    "# 4. Asymptotic Analysis Exercises\n",
    "\n",
    "Asymptotic analysis reveals an algorithm's performance behavior with increasing input size. Here are 2 asymptotic analysis exercises of increasing difficulty for you to practice. You should\n",
    "\n",
    "- Analyze their time complexity. You can analyze them under optimal and worst-case scenarios respectively.\n",
    "- Explain your analysis process."
   ]
  },
  {
   "cell_type": "markdown",
   "metadata": {},
   "source": [
    "#### exercise 1 (2 points)\n",
    "\n",
    "| Alg:     | count(n)   |\n",
    "|----------|------------|\n",
    "| Input:   | integer n  |\n",
    "| Output:  | count value x |\n",
    "| Step 1   | x ← 0      |\n",
    "| Step 2   | for i from 1 to n-1 |\n",
    "| Step 3   | &nbsp;&nbsp;&nbsp;&nbsp;for j from 1 to n-i |\n",
    "| Step 4   | &nbsp;&nbsp;&nbsp;&nbsp;&nbsp;&nbsp;&nbsp;&nbsp;x ← x + 1 |\n",
    "| Step 5   | return x   |"
   ]
  },
  {
   "cell_type": "markdown",
   "metadata": {},
   "source": [
    "The time complexity is: <font color=\"red\">Your Answer</font>\n",
    "\n",
    "In this case, there is no best and worst case for time complexity.It's fixed in $$ \\sum_{i=1}^{n-1} (n - i)  = \\frac{n(n-1)}{2} = O(n^2)$$"
   ]
  },
  {
   "cell_type": "markdown",
   "metadata": {},
   "source": [
    "#### exercise 2 (4 points)\n",
    "\n",
    "| Alg: | BubbleSort(arr)            |\n",
    "|-----------------|------------|\n",
    "| Input:   | array arr of n elements |\n",
    "| Output:  | sorted array arr |\n",
    "| Step 1   | for i from 0 to n-1 do |\n",
    "| Step 2   | &nbsp;&nbsp;&nbsp;&nbsp;swapped ← false |\n",
    "| Step 3   | &nbsp;&nbsp;&nbsp;&nbsp;for j from 0 to n-i-2 do |\n",
    "| Step 4   | &nbsp;&nbsp;&nbsp;&nbsp;&nbsp;&nbsp;&nbsp;&nbsp;if arr[j] > arr[j+1] then |\n",
    "| Step 5   | &nbsp;&nbsp;&nbsp;&nbsp;&nbsp;&nbsp;&nbsp;&nbsp;&nbsp;&nbsp;&nbsp;&nbsp;swap arr[j] and arr[j+1] |\n",
    "| Step 6   | &nbsp;&nbsp;&nbsp;&nbsp;&nbsp;&nbsp;&nbsp;&nbsp;&nbsp;&nbsp;&nbsp;&nbsp;swapped ← true |\n",
    "| Step 7   | &nbsp;&nbsp;&nbsp;&nbsp;if swapped = false then |\n",
    "| Step 8   | &nbsp;&nbsp;&nbsp;&nbsp;&nbsp;&nbsp;&nbsp;&nbsp;break |\n",
    "| Step 9   | return arr |"
   ]
  },
  {
   "cell_type": "markdown",
   "metadata": {},
   "source": [
    "The time complexity is: \n",
    "\n",
    "- Array is already sorted: <font color=\"red\">Your Answer</font>\n",
    "\n",
    "  In this case, we did not sort the array again. So we just need to run the loop once.So the time complexity is $$ n - 2 = O(n) $$\n",
    "\n",
    "- Array is reverse sorted: <font color=\"red\">Your Answer</font>\n",
    "\n",
    "  In this case, we need to run all the loop including the outer loop and the inner loop.So the time complexity is $$\\sum_{i=1}^{n-1} (n - i)  = \\frac{n(n-1)}{2} = O(n^2)$$"
   ]
  }
 ],
 "metadata": {
  "kernelspec": {
   "display_name": "DSAA_2043_DAA",
   "language": "python",
   "name": "python3"
  },
  "language_info": {
   "codemirror_mode": {
    "name": "ipython",
    "version": 3
   },
   "file_extension": ".py",
   "mimetype": "text/x-python",
   "name": "python",
   "nbconvert_exporter": "python",
   "pygments_lexer": "ipython3",
   "version": "3.12.9"
  }
 },
 "nbformat": 4,
 "nbformat_minor": 2
}
