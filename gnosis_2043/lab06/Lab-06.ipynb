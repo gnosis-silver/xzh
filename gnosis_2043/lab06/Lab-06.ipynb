{
 "cells": [
  {
   "cell_type": "markdown",
   "metadata": {},
   "source": [
    "# Lab 06"
   ]
  },
  {
   "cell_type": "markdown",
   "metadata": {},
   "source": [
    "## Exercise 1: Implement a Stack Using a List (10 points)\n",
    "\n",
    "Implement a Stack using Python's built-in list. The stack should support the following operations:\n",
    "\n",
    "- Push – Add an element to the top of the stack.\n",
    "- Pop – Remove and return the top element of the stack.\n",
    "- Peek – Retrieve the top element without removing it.\n",
    "- Is Empty – Check whether the stack is empty."
   ]
  },
  {
   "cell_type": "code",
   "execution_count": 3,
   "metadata": {},
   "outputs": [],
   "source": [
    "class Stack:\n",
    "    def __init__(self):\n",
    "        \"\"\"Initialize an empty stack.\"\"\"\n",
    "        self.stack = []\n",
    "\n",
    "    def push(self, item):\n",
    "        \"\"\"Push an item onto the stack.\"\"\"\n",
    "        ## TODO: Implement here ##\n",
    "        self.stack.append(item)\n",
    "\n",
    "    def pop(self):\n",
    "        \"\"\"Remove and return the top item from the stack. Return None if stack is empty.\"\"\"\n",
    "        ## TODO: Implement here ##\n",
    "        if not self.is_empty():\n",
    "            return self.stack.pop()\n",
    "        return None\n",
    "\n",
    "    def peek(self):\n",
    "        \"\"\"Return the top item without removing it. Return None if stack is empty.\"\"\"\n",
    "        if not self.is_empty():\n",
    "            return self.stack[-1]\n",
    "        return None\n",
    "\n",
    "    def is_empty(self):\n",
    "        \"\"\"Return True if the stack is empty, False otherwise.\"\"\"\n",
    "        return len(self.stack) == 0\n",
    "    "
   ]
  },
  {
   "cell_type": "code",
   "execution_count": 4,
   "metadata": {},
   "outputs": [
    {
     "name": "stdout",
     "output_type": "stream",
     "text": [
      "push 10 is correct!\n",
      "pop 10 is correct!\n"
     ]
    }
   ],
   "source": [
    "# test exercise 1\n",
    "stack = Stack()\n",
    "    \n",
    "# Test 1: Push and Peek\n",
    "stack.push(10)\n",
    "assert stack.peek() == 10, \"Test 1 Failed: Peek should return 10\"\n",
    "print(\"push 10 is correct!\")\n",
    "\n",
    "# Test 2: Pop\n",
    "assert stack.pop() == 10, \"Test 2 Failed: Pop should return 10\"\n",
    "assert stack.is_empty() == True, \"Test 2 Failed: Stack should be empty after pop\"\n",
    "print(\"pop 10 is correct!\")\n",
    "\n",
    "# Test 3: Pop from empty stack\n",
    "assert stack.pop() is None, \"Test 3 Failed: Popping from an empty stack should return None\"\n"
   ]
  },
  {
   "cell_type": "markdown",
   "metadata": {},
   "source": [
    "## Exercise 2: Fibonacci Number (5 points)\n",
    "\n",
    "The Fibonacci numbers, commonly denoted F(n) form a sequence, called the Fibonacci sequence, such that each number is the sum of the two preceding ones, starting from 0 and 1. That is\n",
    "\n",
    "F(0) = 0, F(1) = 1, F(n) = F(n-1) + F(n-2), for n >= 2."
   ]
  },
  {
   "cell_type": "markdown",
   "metadata": {},
   "source": [
    "**Example 1**:\n",
    "\n",
    "> Input: n=2\n",
    "> \n",
    "> Output: 1\n",
    "> \n",
    "> Explanation: F(2) = F(1) + F(0) = 1 + 0 = 1.\n",
    "\n",
    "**Example 2**:\n",
    "\n",
    "> Input: n = 3\n",
    "> \n",
    "> Output: 2\n",
    "> \n",
    "> Explanation: F(3) = F(2) + F(1) = 1 + 1 = 2.\n",
    "\n",
    "**Input format**: an integer n, $n \\in [0,30]$"
   ]
  },
  {
   "cell_type": "code",
   "execution_count": 12,
   "metadata": {},
   "outputs": [],
   "source": [
    "class Solution:\n",
    "    def fibonacci(self, n):\n",
    "        \"\"\"calculate Fibonacci function\"\"\"\n",
    "        ## TODO: Implement here ##\n",
    "        if n == 0:\n",
    "            return 0\n",
    "        elif n == 1:\n",
    "            return 1\n",
    "        return self.fibonacci(n - 1) + self.fibonacci(n - 2)"
   ]
  },
  {
   "cell_type": "code",
   "execution_count": 13,
   "metadata": {},
   "outputs": [
    {
     "name": "stdout",
     "output_type": "stream",
     "text": [
      "fib(5) is correct!\n",
      "fib(10) is correct!\n",
      "fib(30) is correct!\n"
     ]
    }
   ],
   "source": [
    "# test exercise 2\n",
    "s = Solution()\n",
    "ans = [5, 55, 832040]  \n",
    "n_list = [5, 10, 30]  \n",
    "\n",
    "for i, n in enumerate(n_list):\n",
    "    result = s.fibonacci(n)\n",
    "    if result == ans[i]:\n",
    "        print(f\"fib({n}) is correct!\")\n",
    "    else:\n",
    "        print(f\"n={n} is wrong!\")\n"
   ]
  },
  {
   "cell_type": "markdown",
   "metadata": {},
   "source": [
    "## Exercise 3: Find the Maximum Element Using Divide and Conquer (5 points)\n",
    "\n",
    "Given theImplement a function using the divide and conquer approach to find the maximum element in a given list of integers.\n",
    "\n",
    "**Requirements**:\n",
    "\n",
    "Use the divide and conquer method to find the maximum value.\n"
   ]
  },
  {
   "cell_type": "markdown",
   "metadata": {},
   "source": [
    "**Example 1**:\n",
    "\n",
    "> Input: [3, 1, 9, 7, 2]\n",
    ">\n",
    "> Output: 9\n",
    ">\n",
    "> Explanation: 9 is the maximum element.\n",
    "\n",
    "**Input format**: a list of integers, the length > 0 (at least 1 element)."
   ]
  },
  {
   "cell_type": "code",
   "execution_count": 14,
   "metadata": {},
   "outputs": [],
   "source": [
    "class Solution:\n",
    "    def find_max(self, arr):\n",
    "        \"\"\"Finds the maximum element in a list using divide and conquer.\"\"\"\n",
    "        ## TODO: Implement here ##\n",
    "        if len(arr) == 1:\n",
    "            return arr[0]\n",
    "        \n",
    "        mid = len(arr) // 2\n",
    "        left  = self.find_max(arr[:mid])\n",
    "        right = self.find_max(arr[mid:])\n",
    "        return max(left, right)"
   ]
  },
  {
   "cell_type": "code",
   "execution_count": 15,
   "metadata": {},
   "outputs": [
    {
     "name": "stdout",
     "output_type": "stream",
     "text": [
      "test case 1 is correct!\n",
      "test case 2 is correct!\n",
      "test case 3 is correct!\n"
     ]
    }
   ],
   "source": [
    "s = Solution()\n",
    "test_cases = [\n",
    "    [3, 1, 9, 7, 2],\n",
    "    [1, 2, 3, 4, 5],\n",
    "    [-10, -3, -5, -7, -1]\n",
    "]\n",
    "\n",
    "ans = [\n",
    "    9,\n",
    "    5,\n",
    "    -1\n",
    "]\n",
    "\n",
    "for i, arr in enumerate(test_cases):\n",
    "    result = s.find_max(arr)\n",
    "    if result == ans[i]:\n",
    "        print(f\"test case {i+1} is correct!\")\n",
    "    else:\n",
    "        print(f\"test case {i+1} is wrong!\")\n",
    "\n"
   ]
  },
  {
   "cell_type": "markdown",
   "metadata": {},
   "source": [
    "## Exercise 4: Binary Tree Preorder Traversal (10 points)\n",
    "\n",
    "Given the root of a binary tree, return the preorder traversal of its nodes' values."
   ]
  },
  {
   "cell_type": "markdown",
   "metadata": {},
   "source": [
    "**Example 1**:\n",
    "\n",
    "> Input: root = [1,null,2,3]\n",
    "> \n",
    "> Output: [1,2,3]\n",
    "> \n",
    "> Explanation: the tree is\n",
    "\n",
    "    1\n",
    "      \\\n",
    "       2\n",
    "      / \n",
    "    3  "
   ]
  },
  {
   "cell_type": "code",
   "execution_count": 16,
   "metadata": {},
   "outputs": [],
   "source": [
    "class TreeNode:\n",
    "    def __init__(self, val=0, left=None, right=None):\n",
    "        self.val = val\n",
    "        self.left = left\n",
    "        self.right = right\n",
    "        \n",
    "class Solution:\n",
    "    def preorderTraversal(self, root):\n",
    "        ## TODO: Implement here ##\n",
    "        # preorder: root -> left -> right\n",
    "        if root == None:\n",
    "            return []\n",
    "        return [root.val] + self.preorderTraversal(root.left) + self.preorderTraversal(root.right)"
   ]
  },
  {
   "cell_type": "code",
   "execution_count": 17,
   "metadata": {},
   "outputs": [
    {
     "name": "stdout",
     "output_type": "stream",
     "text": [
      "test case 1: [1, 2, 3]\n",
      "correct!\n",
      "test case 2: [1, 2, 4, 5, 3]\n",
      "correct!\n"
     ]
    }
   ],
   "source": [
    "# test exercise 4\n",
    "# case 1: [1,null,2,3]\n",
    "#     1\n",
    "#      \\\n",
    "#       2\n",
    "#      /\n",
    "#     3\n",
    "root1 = TreeNode(1)\n",
    "root1.right = TreeNode(2) \n",
    "root1.right.left = TreeNode(3)\n",
    "\n",
    "# case 2: [1,2,3,4,5]\n",
    "#      1\n",
    "#    /   \\\n",
    "#   2     3\n",
    "#  / \\\n",
    "# 4   5\n",
    "root2 = TreeNode(1)\n",
    "root2.left = TreeNode(2)\n",
    "root2.right = TreeNode(3)\n",
    "root2.left.left = TreeNode(4)\n",
    "root2.left.right = TreeNode(5)\n",
    "\n",
    "s = Solution()\n",
    "result1 = s.preorderTraversal(root1)\n",
    "result2 = s.preorderTraversal(root2)\n",
    "\n",
    "ans1 = [1,2,3]\n",
    "ans2 = [1,2,4,5,3]\n",
    "\n",
    "print(\"test case 1:\", result1)\n",
    "if result1 == ans1:\n",
    "    print(\"correct!\")\n",
    "else:\n",
    "    print(\"wrong!\")\n",
    "\n",
    "print(\"test case 2:\", result2)\n",
    "if result2 == ans2:\n",
    "    print(\"correct!\")\n",
    "else:\n",
    "    print(\"wrong!\")"
   ]
  },
  {
   "cell_type": "markdown",
   "metadata": {},
   "source": [
    "## Exercise 5: Longest Nice Substring (10 points)\n",
    "\n",
    "A string s is nice if, for every letter of the alphabet that s contains, it appears both in uppercase and lowercase. For example, \"abABB\" is nice because 'A' and 'a' appear, and 'B' and 'b' appear. However, \"abA\" is not because 'b' appears, but 'B' does not.\n",
    "\n",
    "Given a string s, return the longest substring of s that is nice. If there are multiple, return the substring of the earliest occurrence. If there are none, return an empty string.\n",
    "\n",
    "**hint**: divide and conquer."
   ]
  },
  {
   "cell_type": "markdown",
   "metadata": {},
   "source": [
    "**Example 1**:\n",
    "\n",
    "> Input: s = \"YazaAay\"\n",
    "> \n",
    "> Output: \"aAa\"\n",
    "> \n",
    "> Explanation: \"aAa\" is a nice string because 'A/a' is the only letter of the alphabet in s, and both 'A' and 'a' appear. \"aAa\" is the longest nice substring.\n"
   ]
  },
  {
   "cell_type": "code",
   "execution_count": 18,
   "metadata": {},
   "outputs": [],
   "source": [
    "class Solution:\n",
    "    def longestNiceSubstring(self, s):\n",
    "        ## TODO: Implement here ##\n",
    "        if len(s) < 2:\n",
    "            return \"\"\n",
    "        \n",
    "        all_letters = set(s)\n",
    "        for i, letter in enumerate(s):\n",
    "            if letter.swapcase() not in all_letters:\n",
    "                left = self.longestNiceSubstring(s[:i])\n",
    "                right = self.longestNiceSubstring(s[i + 1:])\n",
    "                if len(left) > len(right):\n",
    "                    return left\n",
    "                else:\n",
    "                    return right\n",
    "        \n",
    "        return s"
   ]
  },
  {
   "cell_type": "code",
   "execution_count": 19,
   "metadata": {},
   "outputs": [
    {
     "name": "stdout",
     "output_type": "stream",
     "text": [
      "test case 1:\n",
      "Result: correct!\n",
      "--------------------\n",
      "test case 2:\n",
      "Result: correct!\n",
      "--------------------\n",
      "test case 3:\n",
      "Result: correct!\n",
      "--------------------\n"
     ]
    }
   ],
   "source": [
    "# Test exercise 5\n",
    "\n",
    "sol = Solution()\n",
    "test_cases = [\n",
    "    \"YazaAay\",\n",
    "    \"AaBbCc\", \n",
    "    \"aabbccDD\"\n",
    "]\n",
    "\n",
    "ans = [\"aAa\", \"AaBbCc\", \"\"]\n",
    "\n",
    "for i, test in enumerate(test_cases):\n",
    "    result = sol.longestNiceSubstring(test)\n",
    "    print(f\"test case {i+1}:\")\n",
    "    print(f\"Result: {'correct!' if result == ans[i] else 'wrong!'}\")\n",
    "    print(\"-\" * 20)"
   ]
  },
  {
   "cell_type": "markdown",
   "metadata": {},
   "source": [
    "## Exercise 6: Master Theorem: case 2 (10 points)\n",
    "\n",
    "For the recurrence relation $ T(n) = aT(n/b) + f(n) $, if $ f(n) = \\Theta(n^{\\log_b a} \\log^k n) $, where $ k \\geq 0 $, prove that $ T(n) = \\Theta(n^{\\log_b a} \\log^{k+1} n) $.\n"
   ]
  }
 ],
 "metadata": {
  "kernelspec": {
   "display_name": "DSAA_2043_DAA",
   "language": "python",
   "name": "python3"
  },
  "language_info": {
   "codemirror_mode": {
    "name": "ipython",
    "version": 3
   },
   "file_extension": ".py",
   "mimetype": "text/x-python",
   "name": "python",
   "nbconvert_exporter": "python",
   "pygments_lexer": "ipython3",
   "version": "3.12.9"
  }
 },
 "nbformat": 4,
 "nbformat_minor": 2
}
